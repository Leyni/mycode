{
 "cells": [
  {
   "cell_type": "code",
   "execution_count": null,
   "metadata": {},
   "outputs": [],
   "source": [
    "# 初始化参数\n",
    "w = zeros((n, 1))  # 其中n是特征的个数\n",
    "w_0 = 0.\n",
    "v = normalvariate(0, 0.2) * ones((n, k))\n",
    "for it in range(self.iter): # 迭代次数\n",
    "    # 对每一个样本，优化\n",
    "    for x in range(m):\n",
    "        # 这边注意一个数学知识：对应点积的地方通常会有sum，对应位置积的地方通常都没有，详细参见矩阵运算规则，本处计算逻辑在：http://blog.csdn.net/google19890102/article/details/45532745\n",
    "        # xi·vi,xi与vi的矩阵点积\n",
    "        inter_1 = dataMatrix[x] * v\n",
    "        # xi与xi的对应位置乘积   与   xi^2与vi^2对应位置的乘积    的点积\n",
    "        inter_2 = multiply(dataMatrix[x], dataMatrix[x]) * multiply(v, v)  # multiply对应元素相乘\n",
    "        # 完成交叉项,xi*vi*xi*vi - xi^2*vi^2\n",
    "        interaction = sum(multiply(inter_1, inter_1) - inter_2) / 2.\n",
    "        # 计算预测的输出\n",
    "        p = w_0 + dataMatrix[x] * w + interaction\n",
    "        print('classLabels[x]:',classLabels[x])\n",
    "        print('预测的输出p:', p)\n",
    "        # 计算sigmoid(y*pred_y)-1准确的说不是loss，原作者这边理解的有问题，只是作为更新w的中间参数，这边算出来的是越大越好，而下面却用了梯度下降而不是梯度上升的算法在\n",
    "        loss = self.sigmoid(classLabels[x] * p[0, 0]) - 1\n",
    "        if loss >= -1:\n",
    "            loss_res = '正方向 '\n",
    "        else:\n",
    "            loss_res = '反方向'\n",
    "        # 更新参数\n",
    "        w_0 = w_0 - self.alpha * loss * classLabels[x]\n",
    "        for i in range(n):\n",
    "            if dataMatrix[x, i] != 0:\n",
    "                w[i, 0] = w[i, 0] - self.alpha * loss * classLabels[x] * dataMatrix[x, i]\n",
    "                for j in range(k):\n",
    "                    v[i, j] = v[i, j] - self.alpha * loss * classLabels[x] * (\n",
    "                            dataMatrix[x, i] * inter_1[0, j] - v[i, j] * dataMatrix[x, i] * dataMatrix[x, i])"
   ]
  }
 ],
 "metadata": {
  "kernelspec": {
   "display_name": "Python 2",
   "language": "python",
   "name": "python2"
  },
  "language_info": {
   "codemirror_mode": {
    "name": "ipython",
    "version": 2
   },
   "file_extension": ".py",
   "mimetype": "text/x-python",
   "name": "python",
   "nbconvert_exporter": "python",
   "pygments_lexer": "ipython2",
   "version": "2.7.15"
  }
 },
 "nbformat": 4,
 "nbformat_minor": 2
}
