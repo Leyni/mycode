{
 "cells": [
  {
   "cell_type": "code",
   "execution_count": null,
   "metadata": {},
   "outputs": [],
   "source": [
    "# 定义节点\n",
    "class treeNode:\n",
    "    def __init__(self, nameValue, numOccur, parentNode):\n",
    "        self.name = nameValue # 节点名\n",
    "        self.count = numOccur # 计数量\n",
    "        self.nodeLink = None # 相似链接\n",
    "        self.parent = parentNode # 父节点\n",
    "        self.children = {} # 子节点\n",
    "    \n",
    "    def inc(self, numOccur):\n",
    "        self.count += numOccur\n",
    "    \n",
    "    def disp(self, ind = 1): # 用于display\n",
    "        print '  ' * ind, self.name, ' ', self.count\n",
    "        for child in self.children.values():\n",
    "            child.disp(ind + 1)"
   ]
  },
  {
   "cell_type": "code",
   "execution_count": null,
   "metadata": {},
   "outputs": [],
   "source": [
    "# 构建FP树\n",
    "\n",
    "def createTree(dataSet, minSup=1): # dataSet = {样本, 频数}\n",
    "    headerTable = {} # 头指针表\n",
    "    for trans in dataSet: # 对每个元素进行计数\n",
    "        for item in trans:\n",
    "            headerTable[item] = headerTable.get(item, 0) + dataSet[trans]\n",
    "            \n",
    "    for k in headerTable.keys(): # 删除非频繁项\n",
    "        if headerTable[k] < minSup:\n",
    "            del(headerTable[k])\n",
    "            \n",
    "    freqItemSet = set(headerTable.keys()) # 取频繁项的集合\n",
    "    if len(freqItemSet) == 0: return None, None\n",
    "    \n",
    "    for k in headerTable:\n",
    "        headerTable[k] = [headerTable[k], None]\n",
    "    \n",
    "    retTree = treeNode('Null Set', 1, None)\n",
    "    for tranSet, count in dataSet.items():\n",
    "        localD = {}\n",
    "        for item in tranSet:\n",
    "            if item in freqItemSet:\n",
    "                localD[item] = headerTable[item][0]\n",
    "        if len(localD) > 0:\n",
    "            orderedItems = [v[0] for v in sorted(localD.items(), key=lambda p:p[1], reverse=True)]\n",
    "            updateTree(orderedItems, retTree, headerTable, count)\n",
    "            \n",
    "    return retTree, headerTable\n",
    "\n",
    "def updateTree(items, inTree, headerTable, count):\n",
    "    if items[0] in inTree.children:\n",
    "        inTree.children[items[0].inc(count)]\n",
    "    else:\n",
    "        inTree.children[items[0]] = treeNode(items[0], count, inTree)\n",
    "        if headerHeader[items[0]][1] == None:\n",
    "            headerTable[items[0]][1] = inTree.children[items[0]]\n",
    "            \n",
    "    if len(items) > 1:\n",
    "        updateTree(items[1::], inTree.children[items[0]], headerTable, count)\n",
    "        \n",
    "def updateHeader(nodeToTest, targetNode):\n",
    "    while (nodeToTest.nodeLink != None):\n",
    "        nodeToTest = nodeToTest.nodeLink\n",
    "    nodeToTest.nodeLink = targetNode"
   ]
  },
  {
   "cell_type": "code",
   "execution_count": null,
   "metadata": {},
   "outputs": [],
   "source": [
    "# 发现以给定元素项结尾的所有路径的函数\n",
    "def ascendTree(leafNode, prefixPath):\n",
    "    if leafNode.parent != Node:\n",
    "        prefixPath.append(leafNode.name)\n",
    "        ascendTree(leafNode.parent, prefixPath)\n",
    "\n",
    "def findPrefixPath(basePat, treeNode):\n",
    "    condPats = {}\n",
    "    while treeNode != None:\n",
    "        prefixPath = {}\n",
    "        ascendTree(treeNode, prefixPath)\n",
    "        if len(prefixPath) > 1:\n",
    "            condPats[\n",
    "            frozenset(prefixPath[1:])] = treeNode.count\n",
    "        treeNode = treeNode.nodeLink\n",
    "    return condPats"
   ]
  },
  {
   "cell_type": "code",
   "execution_count": null,
   "metadata": {},
   "outputs": [],
   "source": [
    "# 递归查找频繁项集的mineTree函数\n",
    "def MineTree(inTree, headerTable, minSup, preFix, reqItemList):\n",
    "    bigL = [v[0] for v in sorted(headerTable.items(), key=lambda p: p[1])]\n",
    "    \n",
    "    for basePat in bigL:\n",
    "        newFreqSet = preFix.copy()\n",
    "        newFreqSet.add(basePat)\n",
    "        freqItemList.append(newFreqSet)\n",
    "        condPattBases = findPrefixPath(basePat, headerTable[baePat][1])\n",
    "        myCoundTree, myHead = createTree(condPattBases, minSup)\n",
    "        \n",
    "        if myHead != None:\n",
    "            mineTree(myCondTree, myHead, minSup, newFreqSet, freqItemList)"
   ]
  }
 ],
 "metadata": {
  "kernelspec": {
   "display_name": "Python 2",
   "language": "python",
   "name": "python2"
  },
  "language_info": {
   "codemirror_mode": {
    "name": "ipython",
    "version": 2
   },
   "file_extension": ".py",
   "mimetype": "text/x-python",
   "name": "python",
   "nbconvert_exporter": "python",
   "pygments_lexer": "ipython2",
   "version": "2.7.15"
  }
 },
 "nbformat": 4,
 "nbformat_minor": 2
}
