{
 "cells": [
  {
   "cell_type": "code",
   "execution_count": null,
   "metadata": {},
   "outputs": [],
   "source": [
    "from numpy import *\n",
    "\n",
    "def pca(dataMat, topNfeat=999999):\n",
    "    meanVals = mean(dataMat, axis = 0)\n",
    "    meanRemoved = dataMat - meanVals\n",
    "    covMat = cov(meanRemoved, rowvar = 0)\n",
    "    \n",
    "    eigVals, eigVects = linalg.eig(mat(covMat))\n",
    "    eigValInd = argsort(eigVals)\n",
    "    eigValInd = eigValInd[:-(topNfeat + 1):-1]\n",
    "    redEigVects = eigVects[:, eigValInd]\n",
    "    \n",
    "    lowDDataMat = meanRemoved * redEigVects\n",
    "    reconMat = (lowDDataMat * redEigVects.T) + meanVals\n",
    "    \n",
    "    return lowDDataMat, reconMat"
   ]
  }
 ],
 "metadata": {
  "kernelspec": {
   "display_name": "Python 2",
   "language": "python",
   "name": "python2"
  },
  "language_info": {
   "codemirror_mode": {
    "name": "ipython",
    "version": 2
   },
   "file_extension": ".py",
   "mimetype": "text/x-python",
   "name": "python",
   "nbconvert_exporter": "python",
   "pygments_lexer": "ipython2",
   "version": "2.7.15"
  }
 },
 "nbformat": 4,
 "nbformat_minor": 2
}
