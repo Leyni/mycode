{
 "cells": [
  {
   "cell_type": "code",
   "execution_count": null,
   "metadata": {},
   "outputs": [],
   "source": [
    "from numpy import *\n",
    "import operator"
   ]
  },
  {
   "cell_type": "code",
   "execution_count": null,
   "metadata": {},
   "outputs": [],
   "source": [
    "def createDataSet():\n",
    "    group = array([[1.0, 1.1], [1.0, 1.0], [0, 0],  [0, 0.1]]) # 注意 这里声明的是numpy.array数组\n",
    "    labels = ['A', 'A', 'B', 'B']\n",
    "    return group, labels"
   ]
  },
  {
   "cell_type": "code",
   "execution_count": null,
   "metadata": {},
   "outputs": [],
   "source": [
    "def classify0(inX, dataSet, labels, k):\n",
    "    \"\"\"\n",
    "    inX: type [float, float] 预测样本\n",
    "    dataSet: type numpy.array[[float, float]] 样本集\n",
    "    \"\"\"\n",
    "    dataSetSize = dataSet.shape[0] # 获取样本量\n",
    "    diffMat = tile(inX, (dataSetSize, 1)) - dataSet\n",
    "    # 生成一个跟dataSet同类型的数组，第一维度长度为dataSetSize，第二维度1，每个item为一个二维节点\n",
    "    # 并计算跟dataSet的差值，即目标点与样本集中的点的距离向量 delta = (x - y)\n",
    "\n",
    "    sqDiffMat = diffMat ** 2 # 计算 delta**2\n",
    "    sqDistances = sqDiffMat.sum(axis = 1) # 将axis=1的维度，进行sum合并 sum(delta**2)\n",
    "    distances = sqDistances ** 0.5 # 将 sum(delta**2)**0.5\n",
    "\n",
    "    sortedDistIndicies = distances.argsort() # 对距离从小到大排序，返回索引值\n",
    "\n",
    "    classCount = {} # 用来存储前k个分类对应的数据量的\n",
    "\n",
    "    for i in range(k): # 获取前k个分类\n",
    "        voteIlabel = labels[sortedDistIndicies[i]] # 跟进第k个分类的样本索引值，获取对应的分类标签\n",
    "        classCount[voteIlabel] = classCount.get(voteIlabel, 0) + 1 # 对该分类标签进行加1计数\n",
    "\n",
    "    sortedClassCount = sorted(classCount.iteritems(), key = operator.itemgetter(1), reverse = True) # 对分类统计的结果进行排序\n",
    "\n",
    "    return sortedClassCount[0][0]"
   ]
  }
 ],
 "metadata": {
  "kernelspec": {
   "display_name": "Python 2",
   "language": "python",
   "name": "python2"
  },
  "language_info": {
   "codemirror_mode": {
    "name": "ipython",
    "version": 2
   },
   "file_extension": ".py",
   "mimetype": "text/x-python",
   "name": "python",
   "nbconvert_exporter": "python",
   "pygments_lexer": "ipython2",
   "version": "2.7.15"
  }
 },
 "nbformat": 4,
 "nbformat_minor": 2
}
