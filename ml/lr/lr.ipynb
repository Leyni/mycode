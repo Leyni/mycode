{
 "cells": [
  {
   "cell_type": "code",
   "execution_count": 3,
   "metadata": {},
   "outputs": [],
   "source": [
    "# -*- coding: utf-8 -*-\n",
    "\n",
    "from numpy import *"
   ]
  },
  {
   "cell_type": "code",
   "execution_count": 4,
   "metadata": {},
   "outputs": [],
   "source": [
    "def loadDataSet():\n",
    "    \"\"\"\n",
    "    # return: dataMat array[[]], labelMat array[] 样本集m*n和样本分类1*m\n",
    "    \"\"\"\n",
    "    dataMat = [] # 样本数据 m*n\n",
    "    labelMat = [] # 样本分类 1*m\n",
    "    fr = open('testSet.txt') # 从文件中读取样本数据，m*(2 feature + 1 label)\n",
    "    for line in fr.readlines():\n",
    "        lineArr = line.strip().split()\n",
    "        # 这里增加1.0的具体解释：\n",
    "        # 由于后续会使用矩阵化来计算梯度下降，所以需要对θ0进行矩阵运算，因此设置多设置了一个特征x0=1.0\n",
    "        dataMat.append([1.0, float(lineArr[0]), float(lineArr[1])])\n",
    "\n",
    "        labelMat.append(int(lineArr[2]))\n",
    "    return dataMat, labelMat"
   ]
  },
  {
   "cell_type": "code",
   "execution_count": 5,
   "metadata": {},
   "outputs": [],
   "source": [
    "def sigmoid(inX):\n",
    "    \"\"\"\n",
    "    # input inX : matrix m*1 m个样本的置信度\n",
    "    # return : matrix m*1 m个样本的假设函数值，即置信概率\n",
    "    \"\"\"\n",
    "    return 1.0 / (1 + exp(-inX))"
   ]
  },
  {
   "cell_type": "code",
   "execution_count": 12,
   "metadata": {},
   "outputs": [],
   "source": [
    "def gradAscent(dataMatIn, classLabels, alpha = 0.001, maxCycles = 500):\n",
    "    \"\"\"\n",
    "    # function: 梯度下降法\n",
    "    # input dataMatIn: array[[]] 样本集m*n\n",
    "    # input classLabels: array[] 样本分类1*m\n",
    "    # input alpha # 学习率\n",
    "    # input maxCycles # 迭代次数\n",
    "    # output weights: array[] θ权重n*1\n",
    "    \"\"\"\n",
    "    dataMatrix = mat(dataMatIn) # 将样本转为矩阵 m*n\n",
    "    labelMat = mat(classLabels).transpose() # 将样本分类转为矩阵 m*1\n",
    "    m, n = shape(dataMatrix) # 获取样本数量m，特征量n\n",
    "    weights = ones((n, 1)) # 设置初始θ权重矩阵 n*1\n",
    "    for k in range(maxCycles):\n",
    "        h = sigmoid(dataMatrix * weights) # 计算h值矩阵，h为假设函数值sigmoid\n",
    "        error = (labelMat - h) # 计算误差值 error为矩阵m*1\n",
    "        weights = weights + alpha * dataMatrix.transpose() * error # 迭代θ权重 由损失函数对于θ的求导得出\n",
    "    return weights"
   ]
  },
  {
   "cell_type": "code",
   "execution_count": 13,
   "metadata": {},
   "outputs": [],
   "source": [
    "def stocGradAscent0(dataMatrix, classLabels, alpha = 0.001):\n",
    "    # function: 随机梯度下降法（每个样本仅迭代一次）\n",
    "    # input dataMatrix: array[[]] 样本集m*n\n",
    "    # input classLabels: array[] 样本分类1*m\n",
    "    # input alpha # 学习率\n",
    "    # output weights: array[] θ权重n*1\n",
    "    m, n = shape(dataMatrix) # 获取样本数量m，特征量n\n",
    "    weights = ones(n) # 设置初始θ权重 n*1\n",
    "    for i in range(m): # 对每个样本进行一次针对性的调整\n",
    "        h = sigmoid(sum(dataMatrix[i] * weights)) # 计算置信概率\n",
    "        error = classLabels[i] - h # 计算偏导数中的误差\n",
    "        weights = weights + alpha * error * dataMatrix[i] # 用梯度下降法调整一次\n",
    "    return weights"
   ]
  },
  {
   "cell_type": "code",
   "execution_count": 14,
   "metadata": {},
   "outputs": [],
   "source": [
    "def stocGradAscent1(dataMatrix, classLabels, alpha_base = 0.01, numIter = 150):\n",
    "    # function: 随机梯度下降法\n",
    "    # input dataMatrix: array[[]] 样本集m*n\n",
    "    # input classLabels: array[] 样本分类1*m\n",
    "    # input alpha_base  基础学习率\n",
    "    # input numIter : 整体迭代次数\n",
    "    # output weights: array[] θ权重n*1\n",
    "    m, n = shape(dataMatrix) # 获取样本数量m，特征量n\n",
    "    weights = ones(n) # 设置初始θ权重，n*1，值全为1\n",
    "    for j in range(numIter): # 迭代学习\n",
    "        dataIndex = range(m) # 复制一个样本标号的数组，由于随机迭代需要不断的删除样本，因此复制此数据来不断做整体迭代\n",
    "        for i in range(m): # 迭代每个样本\n",
    "            alpha = 4 / (1.0 + j + i) + 0.01 # 随着迭代次数的增加，降低学习率，为避免在最优解附近由于学习率过高，越过最优解\n",
    "            randIndex = int(random.uniform(0, len(dataIndex))) # 在剩余的样本中随机取一个样本\n",
    "            h = sigmoid(sum(dataMatrix[randIndex]) * weights) # 计算执行概率\n",
    "            error = classLabels[randIndex] - h # 计算误差\n",
    "            weights = weights + alpha * error * dataMatrix[randIndex] # 迭代权重\n",
    "            del(dataIndex[randIndex]) # 删除该样本\n",
    "    return weights\n"
   ]
  },
  {
   "cell_type": "code",
   "execution_count": 15,
   "metadata": {},
   "outputs": [],
   "source": [
    "def plotBestFit(weights):\n",
    "    import matplotlib.pyplot as plt\n",
    "    dataMat, labelMat = loadDataSet()\n",
    "    dataArr = array(dataMat)\n",
    "    n = shape(dataMat)[0]\n",
    "    xcord1 = []\n",
    "    ycord1 = []\n",
    "    xcord2 = []\n",
    "    ycord2 = []\n",
    "    for i in range(n):\n",
    "        if int(labelMat[i] == 1):\n",
    "            xcord1.append(dataArr[i, 1]); ycord1.append(dataArr[i, 2])\n",
    "        else:\n",
    "            xcord2.append(dataArr[i, 1]); ycord2.append(dataArr[i, 2])\n",
    "    fig = plt.figure()\n",
    "    ax = fig.add_subplot(111)\n",
    "    ax.scatter(xcord1, ycord1, s = 30, c = 'red', marker = 's')\n",
    "    ax.scatter(xcord2, ycord2, s = 30, c = 'green')\n",
    "    x = arange(-3.0, 3.0, 0.1)\n",
    "    y = (-weights[0] - weights[1] * x) / weights[2]\n",
    "    ax.plot(x, y)\n",
    "    plt.xlabel('X1')\n",
    "    plt.ylabel('X2')\n",
    "    plt.show()"
   ]
  },
  {
   "cell_type": "code",
   "execution_count": 16,
   "metadata": {},
   "outputs": [
    {
     "data": {
      "image/png": "[encoded data removed]",
      "text/plain": [
       "<Figure size 432x288 with 1 Axes>"
      ]
     },
     "metadata": {
      "needs_background": "light"
     },
     "output_type": "display_data"
    }
   ],
   "source": [
    "# run\n",
    "dataArr, labelMat = loadDataSet()\n",
    "weights = gradAscent(dataArr, labelMat, 1, 500)\n",
    "plotBestFit(weights.getA())\n",
    "#weights = stocGradAscent0(array(dataArr), labelMat, 5) # array(dataArr)是为了将dataArr转换为矩阵\n",
    "#plotBestFit(weights)\n",
    "#weights = stocGradAscent1(array(dataArr), labelMat, 1, 2000)\n",
    "#plotBestFit(weights)"
   ]
  },
  {
   "cell_type": "code",
   "execution_count": null,
   "metadata": {},
   "outputs": [],
   "source": []
  }
 ],
 "metadata": {
  "kernelspec": {
   "display_name": "Python 2",
   "language": "python",
   "name": "python2"
  },
  "language_info": {
   "codemirror_mode": {
    "name": "ipython",
    "version": 2
   },
   "file_extension": ".py",
   "mimetype": "text/x-python",
   "name": "python",
   "nbconvert_exporter": "python",
   "pygments_lexer": "ipython2",
   "version": "2.7.15"
  }
 },
 "nbformat": 4,
 "nbformat_minor": 2
}
