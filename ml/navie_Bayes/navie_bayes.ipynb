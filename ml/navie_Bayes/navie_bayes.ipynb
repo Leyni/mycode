{
 "cells": [
  {
   "cell_type": "code",
   "execution_count": 79,
   "metadata": {},
   "outputs": [],
   "source": [
    "import pandas as pd\n",
    "import numpy as np\n",
    "import math"
   ]
  },
  {
   "cell_type": "code",
   "execution_count": 15,
   "metadata": {},
   "outputs": [
    {
     "name": "stdout",
     "output_type": "stream",
     "text": [
      "    x1 x2  y\n",
      "0    1  S -1\n",
      "1    1  M -1\n",
      "2    1  M  1\n",
      "3    1  S  1\n",
      "4    1  S -1\n",
      "5    2  S -1\n",
      "6    2  M -1\n",
      "7    2  M  1\n",
      "8    2  L  1\n",
      "9    2  L  1\n",
      "10   3  L  1\n",
      "11   3  M  1\n",
      "12   3  M  1\n",
      "13   3  L  1\n",
      "14   3  L -1\n"
     ]
    }
   ],
   "source": [
    "# sample\n",
    "\n",
    "data = {'x1': [1, 1, 1, 1, 1, 2, 2, 2, 2, 2, 3, 3, 3, 3, 3],\n",
    "        'x2': ['S', 'M', 'M', 'S', 'S', 'S', 'M', 'M', 'L', 'L', 'L', 'M', 'M', 'L', 'L'],\n",
    "        'y':  [-1, -1, 1, 1, -1, -1, -1, 1, 1, 1, 1, 1, 1, 1, -1]\n",
    "        }\n",
    "df = pd.DataFrame(data)\n",
    "print df"
   ]
  },
  {
   "cell_type": "code",
   "execution_count": 76,
   "metadata": {},
   "outputs": [
    {
     "name": "stdout",
     "output_type": "stream",
     "text": [
      "{'x2': {(-1, 'M'): 0.3333333333333333, (1, 'M'): 0.4166666666666667, (1, 'L'): 0.4166666666666667, (1, 'S'): 0.16666666666666666, (-1, 'S'): 0.4444444444444444, (-1, 'L'): 0.2222222222222222}, 'x1': {(1, 2): 0.3333333333333333, (-1, 1): 0.4444444444444444, (1, 3): 0.4166666666666667, (-1, 3): 0.2222222222222222, (-1, 2): 0.3333333333333333, (1, 1): 0.25}}\n"
     ]
    }
   ],
   "source": [
    "# 训练\n",
    "\n",
    "feature_list = ['x1', 'x2']\n",
    "#x_feature_df\n",
    "#x_feature_set = set(data['x1']) # x1 特征取值\n",
    "#x2_feature_set = set(data['x2']) # x2 特征取值\n",
    "class_list = list(set(data['y'])) # label 特征取值\n",
    "\n",
    "#prior_cnt = np.zeros(len(class_set)) # 用来记录每个分类的次数，对应记录的是每个分类的先验概率\n",
    "#但由于先验概率=每个分类的频次/总样本数，而贝叶斯的分类过程，是比较先验概率*独立条件概率的大小，因此先验概率的分母，也可以忽略不计\n",
    "#conditional_probability = np.zeros((len(class_set), 2, 1)) # λ=1 拉普拉斯平滑\n",
    "\n",
    "# 计算各分类和条件的出现频次\n",
    "class_cnt = df.groupby(['y']).size().to_frame().to_dict('index')\n",
    "x_feature_cnt = {}\n",
    "y_x_feature_cnt = {}\n",
    "for x in feature_list:\n",
    "    x_feature_cnt[x] = df.groupby([x]).size().to_frame().to_dict('index')\n",
    "    y_x_feature_cnt[x] = df.groupby(['y', x]).size().to_frame().to_dict('index')\n",
    "##print class_cnt, x_feature_cnt, y_x_feature_cnt\n",
    "\n",
    "# 计算条件概率\n",
    "for x in y_x_feature_cnt:\n",
    "    for y, x_value in y_x_feature_cnt[x]: \n",
    "        # 拉普拉斯平滑\n",
    "        #print y, x_value, y_x_feature_cnt[x][(y, x_value)][0], class_cnt[y][0], len(x_feature_cnt[x])\n",
    "        y_x_feature_cnt[x][(y, x_value)] = ( # 拉普拉斯平滑\n",
    "          1.0\n",
    "          * (y_x_feature_cnt[x][(y, x_value)][0] + 1) \n",
    "          / (class_cnt[y][0] + len(x_feature_cnt[x]))\n",
    "        )\n",
    "print y_x_feature_cnt"
   ]
  },
  {
   "cell_type": "code",
   "execution_count": 83,
   "metadata": {},
   "outputs": [
    {
     "name": "stdout",
     "output_type": "stream",
     "text": [
      "-1 -0.117783035656\n"
     ]
    }
   ],
   "source": [
    "# 预测\n",
    "\n",
    "test_data = {'x1': 2,\n",
    "        'x2': 'S',\n",
    "        }\n",
    "\n",
    "max_property_label = None\n",
    "max_property_value = -9999999\n",
    "\n",
    "for y in class_list:\n",
    "    property_value = math.log(class_cnt[y][0]) #由于先验概率=每个分类的频次/总样本数，而贝叶斯的分类过程，是比较先验概率*独立条件概率的大小，因此先验概率的分母，也可以忽略不计\n",
    "    for x in feature_list:\n",
    "        property_value += math.log(y_x_feature_cnt[x][(y, test_data[x])])\n",
    "    if property_value >= max_property_value:\n",
    "        max_property_value = property_value\n",
    "        max_property_label = y\n",
    "\n",
    "print max_property_label, max_property_value"
   ]
  },
  {
   "cell_type": "code",
   "execution_count": null,
   "metadata": {},
   "outputs": [],
   "source": []
  }
 ],
 "metadata": {
  "kernelspec": {
   "display_name": "Python 2",
   "language": "python",
   "name": "python2"
  },
  "language_info": {
   "codemirror_mode": {
    "name": "ipython",
    "version": 2
   },
   "file_extension": ".py",
   "mimetype": "text/x-python",
   "name": "python",
   "nbconvert_exporter": "python",
   "pygments_lexer": "ipython2",
   "version": "2.7.15"
  }
 },
 "nbformat": 4,
 "nbformat_minor": 2
}
