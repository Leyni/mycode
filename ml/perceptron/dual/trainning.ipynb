{
 "cells": [
  {
   "cell_type": "code",
   "execution_count": 1,
   "metadata": {},
   "outputs": [],
   "source": [
    "import pandas as pd\n",
    "import numpy as np\n",
    "import matplotlib.pyplot as plt"
   ]
  },
  {
   "cell_type": "code",
   "execution_count": 2,
   "metadata": {},
   "outputs": [
    {
     "name": "stdout",
     "output_type": "stream",
     "text": [
      "    x0   x1  y\n",
      "0  3.0  3.0  1\n",
      "1  4.0  3.0  1\n",
      "2  1.0  1.0 -1\n",
      "3 2\n",
      "    x0   x1\n",
      "0  3.0  3.0\n",
      "1  4.0  3.0\n",
      "2  1.0  1.0\n",
      "   y\n",
      "0  1\n",
      "1  1\n",
      "2 -1\n",
      "[[18. 21.  6.]\n",
      " [21. 25.  7.]\n",
      " [ 6.  7.  2.]]\n"
     ]
    }
   ],
   "source": [
    "# 加载数据\n",
    "tr_data = pd.read_csv('./train_data.csv')\n",
    "print tr_data.head()\n",
    "\n",
    "# 样本量 特征量\n",
    "m, n = tr_data.shape[0], tr_data.shape[1] - 1\n",
    "print m, n\n",
    "\n",
    "# 将样本的示例与标记拆分开\n",
    "X = tr_data[tr_data.columns[:-1]]\n",
    "Y = tr_data[tr_data.columns[-1:]]\n",
    "print X.head()\n",
    "print Y.head()\n",
    "\n",
    "# 提前计算Gram矩阵\n",
    "G = X.values.dot(X.values.T)\n",
    "print G"
   ]
  },
  {
   "cell_type": "code",
   "execution_count": 3,
   "metadata": {},
   "outputs": [
    {
     "data": {
      "text/plain": [
       "<matplotlib.collections.PathCollection at 0x119b723d0>"
      ]
     },
     "execution_count": 3,
     "metadata": {},
     "output_type": "execute_result"
    },
    {
     "data": {
      "image/png": "[encoded data removed]",
      "text/plain": [
       "<Figure size 432x288 with 1 Axes>"
      ]
     },
     "metadata": {
      "needs_background": "light"
     },
     "output_type": "display_data"
    }
   ],
   "source": [
    "# 创建一个可视化界面\n",
    "plt.scatter(X['x0'].values.T, X['x1'].values.T)"
   ]
  },
  {
   "cell_type": "code",
   "execution_count": 14,
   "metadata": {},
   "outputs": [
    {
     "name": "stdout",
     "output_type": "stream",
     "text": [
      "[[0.]\n",
      " [0.]\n",
      " [0.]]\n",
      "[[1.]]\n",
      "1\n",
      "current sign\n",
      "[[ 1.]\n",
      " [ 1.]\n",
      " [-1.]]\n",
      "error_sample\n",
      "    x0   x1  y\n",
      "2  1.0  1.0 -1\n",
      "current a, b\n",
      "[[0.]\n",
      " [0.]\n",
      " [1.]]\n",
      "[[0.]]\n",
      "current sign\n",
      "[[-6.]\n",
      " [-7.]\n",
      " [ 2.]]\n",
      "error_sample\n",
      "    x0   x1  y\n",
      "0  3.0  3.0  1\n",
      "current a, b\n",
      "[[1.]\n",
      " [0.]\n",
      " [1.]]\n",
      "[[1.]]\n",
      "current sign\n",
      "[[13.]\n",
      " [15.]\n",
      " [-5.]]\n",
      "error_sample\n",
      "    x0   x1  y\n",
      "2  1.0  1.0 -1\n",
      "current a, b\n",
      "[[1.]\n",
      " [0.]\n",
      " [2.]]\n",
      "[[0.]]\n",
      "current sign\n",
      "[[ 6.]\n",
      " [ 7.]\n",
      " [-2.]]\n",
      "error_sample\n",
      "    x0   x1  y\n",
      "2  1.0  1.0 -1\n",
      "current a, b\n",
      "[[1.]\n",
      " [0.]\n",
      " [3.]]\n",
      "[[-1.]]\n",
      "current sign\n",
      "[[-1.]\n",
      " [-1.]\n",
      " [ 1.]]\n",
      "error_sample\n",
      "    x0   x1  y\n",
      "0  3.0  3.0  1\n",
      "current a, b\n",
      "[[2.]\n",
      " [0.]\n",
      " [3.]]\n",
      "[[0.]]\n",
      "current sign\n",
      "[[18.]\n",
      " [21.]\n",
      " [-6.]]\n",
      "error_sample\n",
      "    x0   x1  y\n",
      "2  1.0  1.0 -1\n",
      "current a, b\n",
      "[[2.]\n",
      " [0.]\n",
      " [4.]]\n",
      "[[-1.]]\n",
      "current sign\n",
      "[[11.]\n",
      " [13.]\n",
      " [-3.]]\n",
      "error_sample\n",
      "    x0   x1  y\n",
      "2  1.0  1.0 -1\n",
      "current a, b\n",
      "[[2.]\n",
      " [0.]\n",
      " [5.]]\n",
      "[[-2.]]\n",
      "current sign\n",
      "[[ 4.]\n",
      " [ 5.]\n",
      " [-0.]]\n",
      "error_sample\n",
      "    x0   x1  y\n",
      "2  1.0  1.0 -1\n",
      "current a, b\n",
      "[[2.]\n",
      " [0.]\n",
      " [6.]]\n",
      "[[-3.]]\n",
      "current sign\n",
      "[[-3.]\n",
      " [-3.]\n",
      " [ 3.]]\n",
      "error_sample\n",
      "    x0   x1  y\n",
      "0  3.0  3.0  1\n",
      "current a, b\n",
      "[[3.]\n",
      " [0.]\n",
      " [6.]]\n",
      "[[-2.]]\n",
      "current sign\n",
      "[[16.]\n",
      " [19.]\n",
      " [-4.]]\n",
      "error_sample\n",
      "    x0   x1  y\n",
      "2  1.0  1.0 -1\n",
      "current a, b\n",
      "[[3.]\n",
      " [0.]\n",
      " [7.]]\n",
      "[[-3.]]\n",
      "current sign\n",
      "[[ 9.]\n",
      " [11.]\n",
      " [-1.]]\n",
      "error_sample\n",
      "    x0   x1  y\n",
      "2  1.0  1.0 -1\n",
      "current a, b\n",
      "[[3.]\n",
      " [0.]\n",
      " [8.]]\n",
      "[[-4.]]\n",
      "current sign\n",
      "[[2.]\n",
      " [3.]\n",
      " [2.]]\n",
      "w=\n",
      "[[1.]\n",
      " [1.]]\n"
     ]
    }
   ],
   "source": [
    "# 第一步：选择一个初始的 w,b 设定学习率\n",
    "a = np.array([[0.0]] * m)\n",
    "b = np.array([[1.0]])\n",
    "r = 1\n",
    "print a\n",
    "print b\n",
    "print r\n",
    "#print ((a * Y.values).T.dot(G) + b).T * Y.values\n",
    "\n",
    "while True: # 当样本是线性可分的，必然收敛\n",
    "\n",
    "    # 计算在当前a和b条件下，分类是否正确\n",
    "    delta_sign = ((a * Y.values).T.dot(G) + b).T * Y.values\n",
    "    print 'current sign'\n",
    "    print delta_sign\n",
    "\n",
    "    # 筛选出 sign <= 0的样本\n",
    "    error_samples = tr_data[delta_sign <= 0]\n",
    "    \n",
    "    # 如果分错样本集为空，说明已经迭代结束\n",
    "    if error_samples.empty:\n",
    "        break\n",
    "        \n",
    "    # 从错误分类样本中，抽样一个样本进行迭代\n",
    "    sample = error_samples.sample()\n",
    "    index = sample.index[0]\n",
    "    ey = sample[sample.columns[-1:]]\n",
    "    print 'error_sample'\n",
    "    print sample\n",
    "\n",
    "    # 迭代更新w和b\n",
    "    a[index][0] = a[index][0] + r\n",
    "    b = b + ey.values * r\n",
    "    print 'current a, b'\n",
    "    print a\n",
    "    print b\n",
    "\n",
    "w = np.array([np.sum(a * Y.values * X, axis=0)]).T\n",
    "print 'w='\n",
    "print w"
   ]
  },
  {
   "cell_type": "code",
   "execution_count": 15,
   "metadata": {},
   "outputs": [
    {
     "data": {
      "text/plain": [
       "[<matplotlib.lines.Line2D at 0x11a5e2610>]"
      ]
     },
     "execution_count": 15,
     "metadata": {},
     "output_type": "execute_result"
    },
    {
     "data": {
      "image/png": "[encoded data removed]",
      "text/plain": [
       "<Figure size 432x288 with 1 Axes>"
      ]
     },
     "metadata": {
      "needs_background": "light"
     },
     "output_type": "display_data"
    }
   ],
   "source": [
    "# 画出最终的结果\n",
    "plt.scatter(X['x0'].values.T, X['x1'].values.T)\n",
    "plt.plot([0, 4], [(-b[0][0] - w[0][0] * 0) / w[1][0], (-b[0][0] - w[0][0] * 4) / w[1][0]])"
   ]
  },
  {
   "cell_type": "code",
   "execution_count": 16,
   "metadata": {},
   "outputs": [
    {
     "name": "stdout",
     "output_type": "stream",
     "text": [
      "    x0   x1  y\n",
      "0  0.0  0.0 -1\n",
      "1  4.0  4.0  1\n",
      "[[False]\n",
      " [ True]]\n"
     ]
    }
   ],
   "source": [
    "# 预测\n",
    "te_data = pd.read_csv('./test_data.csv')\n",
    "print te_data.head()\n",
    "\n",
    "# 将样本的示例与标记拆分开\n",
    "tX = te_data[te_data.columns[:-1]]\n",
    "\n",
    "print (tX.values.dot(w) + b) >= 0"
   ]
  },
  {
   "cell_type": "code",
   "execution_count": null,
   "metadata": {},
   "outputs": [],
   "source": []
  }
 ],
 "metadata": {
  "kernelspec": {
   "display_name": "Python 2",
   "language": "python",
   "name": "python2"
  },
  "language_info": {
   "codemirror_mode": {
    "name": "ipython",
    "version": 2
   },
   "file_extension": ".py",
   "mimetype": "text/x-python",
   "name": "python",
   "nbconvert_exporter": "python",
   "pygments_lexer": "ipython2",
   "version": "2.7.15"
  }
 },
 "nbformat": 4,
 "nbformat_minor": 2
}
