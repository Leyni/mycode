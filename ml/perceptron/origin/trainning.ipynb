{
 "cells": [
  {
   "cell_type": "code",
   "execution_count": 1,
   "metadata": {},
   "outputs": [],
   "source": [
    "import pandas as pd\n",
    "import numpy as np\n",
    "import matplotlib.pyplot as plt"
   ]
  },
  {
   "cell_type": "code",
   "execution_count": 2,
   "metadata": {},
   "outputs": [
    {
     "name": "stdout",
     "output_type": "stream",
     "text": [
      "    x0   x1  y\n",
      "0  3.0  3.0  1\n",
      "1  4.0  3.0  1\n",
      "2  1.0  1.0 -1\n",
      "3 2\n",
      "    x0   x1\n",
      "0  3.0  3.0\n",
      "1  4.0  3.0\n",
      "2  1.0  1.0\n",
      "   y\n",
      "0  1\n",
      "1  1\n",
      "2 -1\n"
     ]
    }
   ],
   "source": [
    "# 加载数据\n",
    "tr_data = pd.read_csv('./train_data.csv')\n",
    "print tr_data.head()\n",
    "\n",
    "# 样本量 特征量\n",
    "m, n = tr_data.shape[0], tr_data.shape[1] - 1\n",
    "print m, n\n",
    "\n",
    "# 将样本的示例与标记拆分开\n",
    "X = tr_data[tr_data.columns[:-1]]\n",
    "Y = tr_data[tr_data.columns[-1:]]\n",
    "print X.head()\n",
    "print Y.head()"
   ]
  },
  {
   "cell_type": "code",
   "execution_count": 3,
   "metadata": {},
   "outputs": [
    {
     "data": {
      "text/plain": [
       "<matplotlib.collections.PathCollection at 0x1221123d0>"
      ]
     },
     "execution_count": 3,
     "metadata": {},
     "output_type": "execute_result"
    },
    {
     "data": {
      "image/png": "[encoded data removed]",
      "text/plain": [
       "<Figure size 432x288 with 1 Axes>"
      ]
     },
     "metadata": {
      "needs_background": "light"
     },
     "output_type": "display_data"
    }
   ],
   "source": [
    "# 创建一个可视化界面\n",
    "plt.scatter(X['x0'].values.T, X['x1'].values.T)"
   ]
  },
  {
   "cell_type": "code",
   "execution_count": 4,
   "metadata": {},
   "outputs": [
    {
     "name": "stdout",
     "output_type": "stream",
     "text": [
      "[[1.]\n",
      " [1.]]\n",
      "[[1.0]]\n",
      "0.1\n",
      "current sign\n",
      "[[ 7.]\n",
      " [ 8.]\n",
      " [-3.]]\n",
      "error_sample\n",
      "    x0   x1\n",
      "2  1.0  1.0    y\n",
      "2 -1\n",
      "current w, b\n",
      "[[0.9]\n",
      " [0.9]]\n",
      "[[0.9]]\n",
      "current sign\n",
      "[[ 6.3]\n",
      " [ 7.2]\n",
      " [-2.7]]\n",
      "error_sample\n",
      "    x0   x1\n",
      "2  1.0  1.0    y\n",
      "2 -1\n",
      "current w, b\n",
      "[[0.8]\n",
      " [0.8]]\n",
      "[[0.8]]\n",
      "current sign\n",
      "[[ 5.6]\n",
      " [ 6.4]\n",
      " [-2.4]]\n",
      "error_sample\n",
      "    x0   x1\n",
      "2  1.0  1.0    y\n",
      "2 -1\n",
      "current w, b\n",
      "[[0.7]\n",
      " [0.7]]\n",
      "[[0.7]]\n",
      "current sign\n",
      "[[ 4.9]\n",
      " [ 5.6]\n",
      " [-2.1]]\n",
      "error_sample\n",
      "    x0   x1\n",
      "2  1.0  1.0    y\n",
      "2 -1\n",
      "current w, b\n",
      "[[0.6]\n",
      " [0.6]]\n",
      "[[0.6]]\n",
      "current sign\n",
      "[[ 4.2]\n",
      " [ 4.8]\n",
      " [-1.8]]\n",
      "error_sample\n",
      "    x0   x1\n",
      "2  1.0  1.0    y\n",
      "2 -1\n",
      "current w, b\n",
      "[[0.5]\n",
      " [0.5]]\n",
      "[[0.5]]\n",
      "current sign\n",
      "[[ 3.5]\n",
      " [ 4. ]\n",
      " [-1.5]]\n",
      "error_sample\n",
      "    x0   x1\n",
      "2  1.0  1.0    y\n",
      "2 -1\n",
      "current w, b\n",
      "[[0.4]\n",
      " [0.4]]\n",
      "[[0.4]]\n",
      "current sign\n",
      "[[ 2.8]\n",
      " [ 3.2]\n",
      " [-1.2]]\n",
      "error_sample\n",
      "    x0   x1\n",
      "2  1.0  1.0    y\n",
      "2 -1\n",
      "current w, b\n",
      "[[0.3]\n",
      " [0.3]]\n",
      "[[0.3]]\n",
      "current sign\n",
      "[[ 2.1]\n",
      " [ 2.4]\n",
      " [-0.9]]\n",
      "error_sample\n",
      "    x0   x1\n",
      "2  1.0  1.0    y\n",
      "2 -1\n",
      "current w, b\n",
      "[[0.2]\n",
      " [0.2]]\n",
      "[[0.2]]\n",
      "current sign\n",
      "[[ 1.4]\n",
      " [ 1.6]\n",
      " [-0.6]]\n",
      "error_sample\n",
      "    x0   x1\n",
      "2  1.0  1.0    y\n",
      "2 -1\n",
      "current w, b\n",
      "[[0.1]\n",
      " [0.1]]\n",
      "[[0.1]]\n",
      "current sign\n",
      "[[ 0.7]\n",
      " [ 0.8]\n",
      " [-0.3]]\n",
      "error_sample\n",
      "    x0   x1\n",
      "2  1.0  1.0    y\n",
      "2 -1\n",
      "current w, b\n",
      "[[1.38777878e-16]\n",
      " [1.38777878e-16]]\n",
      "[[1.38777878e-16]]\n",
      "current sign\n",
      "[[ 9.71445147e-16]\n",
      " [ 1.11022302e-15]\n",
      " [-4.16333634e-16]]\n",
      "error_sample\n",
      "    x0   x1\n",
      "2  1.0  1.0    y\n",
      "2 -1\n",
      "current w, b\n",
      "[[-0.1]\n",
      " [-0.1]]\n",
      "[[-0.1]]\n",
      "current sign\n",
      "[[-0.7]\n",
      " [-0.8]\n",
      " [ 0.3]]\n",
      "error_sample\n",
      "    x0   x1\n",
      "0  3.0  3.0    y\n",
      "0  1\n",
      "current w, b\n",
      "[[0.2]\n",
      " [0.2]]\n",
      "[[1.38777878e-16]]\n",
      "current sign\n",
      "[[ 1.2]\n",
      " [ 1.4]\n",
      " [-0.4]]\n",
      "error_sample\n",
      "    x0   x1\n",
      "2  1.0  1.0    y\n",
      "2 -1\n",
      "current w, b\n",
      "[[0.1]\n",
      " [0.1]]\n",
      "[[-0.1]]\n",
      "current sign\n",
      "[[ 0.5]\n",
      " [ 0.6]\n",
      " [-0.1]]\n",
      "error_sample\n",
      "    x0   x1\n",
      "2  1.0  1.0    y\n",
      "2 -1\n",
      "current w, b\n",
      "[[1.66533454e-16]\n",
      " [1.66533454e-16]]\n",
      "[[-0.2]]\n",
      "current sign\n",
      "[[-0.2]\n",
      " [-0.2]\n",
      " [ 0.2]]\n",
      "error_sample\n",
      "    x0   x1\n",
      "0  3.0  3.0    y\n",
      "0  1\n",
      "current w, b\n",
      "[[0.3]\n",
      " [0.3]]\n",
      "[[-0.1]]\n",
      "current sign\n",
      "[[ 1.7]\n",
      " [ 2. ]\n",
      " [-0.5]]\n",
      "error_sample\n",
      "    x0   x1\n",
      "2  1.0  1.0    y\n",
      "2 -1\n",
      "current w, b\n",
      "[[0.2]\n",
      " [0.2]]\n",
      "[[-0.2]]\n",
      "current sign\n",
      "[[ 1. ]\n",
      " [ 1.2]\n",
      " [-0.2]]\n",
      "error_sample\n",
      "    x0   x1\n",
      "2  1.0  1.0    y\n",
      "2 -1\n",
      "current w, b\n",
      "[[0.1]\n",
      " [0.1]]\n",
      "[[-0.3]]\n",
      "current sign\n",
      "[[0.3]\n",
      " [0.4]\n",
      " [0.1]]\n"
     ]
    }
   ],
   "source": [
    "# 第一步：选择一个初始的 w,b 设定学习率\n",
    "w = pd.DataFrame(np.array([1.0] * n)).values\n",
    "b = [[1.0]]\n",
    "r = 0.1\n",
    "print w\n",
    "print b\n",
    "print r\n",
    "\n",
    "while True: # 当样本是线性可分的，必然收敛\n",
    "\n",
    "    # 计算在当前w和b条件下，分类是否正确\n",
    "    delta_sign = (X.values.dot(w) + b) * Y.values\n",
    "    print 'current sign'\n",
    "    print delta_sign\n",
    "\n",
    "    # 筛选出 sign <= 0的样本\n",
    "    error_samples = tr_data[delta_sign <= 0]\n",
    "    \n",
    "    # 如果分错样本集为空，说明已经迭代结束\n",
    "    if error_samples.empty:\n",
    "        break\n",
    "        \n",
    "    # 从错误分类样本中，抽样一个样本进行迭代\n",
    "    sample = error_samples.sample()\n",
    "    ex = sample[sample.columns[:-1]]\n",
    "    ey = sample[sample.columns[-1:]]\n",
    "    print 'error_sample'\n",
    "    print ex, ey\n",
    "\n",
    "    # 迭代更新w和b\n",
    "    w = w + ex.values.T.dot(ey.values) * r\n",
    "    b = b + ey.values * r\n",
    "    print 'current w, b'\n",
    "    print w\n",
    "    print b\n",
    "\n"
   ]
  },
  {
   "cell_type": "code",
   "execution_count": 183,
   "metadata": {},
   "outputs": [
    {
     "data": {
      "text/plain": [
       "[<matplotlib.lines.Line2D at 0x115b17250>]"
      ]
     },
     "execution_count": 183,
     "metadata": {},
     "output_type": "execute_result"
    },
    {
     "data": {
      "image/png": "[encoded data removed]",
      "text/plain": [
       "<Figure size 432x288 with 1 Axes>"
      ]
     },
     "metadata": {
      "needs_background": "light"
     },
     "output_type": "display_data"
    }
   ],
   "source": [
    "# 画出最终的结果\n",
    "plt.scatter(X['x0'].values.T, X['x1'].values.T)\n",
    "plt.plot([0, 4], [(-b[0][0] - w[0][0] * 0) / w[1][0], (-b[0][0] - w[0][0] * 4) / w[1][0]])"
   ]
  },
  {
   "cell_type": "code",
   "execution_count": 5,
   "metadata": {},
   "outputs": [
    {
     "name": "stdout",
     "output_type": "stream",
     "text": [
      "    x0   x1  y\n",
      "0  0.0  0.0 -1\n",
      "1  4.0  4.0  1\n",
      "[[False]\n",
      " [ True]]\n"
     ]
    }
   ],
   "source": [
    "# 预测\n",
    "te_data = pd.read_csv('./test_data.csv')\n",
    "print te_data.head()\n",
    "\n",
    "# 将样本的示例与标记拆分开\n",
    "tX = te_data[te_data.columns[:-1]]\n",
    "\n",
    "print (tX.values.dot(w) + b) >= 0"
   ]
  },
  {
   "cell_type": "code",
   "execution_count": null,
   "metadata": {},
   "outputs": [],
   "source": []
  }
 ],
 "metadata": {
  "kernelspec": {
   "display_name": "Python 2",
   "language": "python",
   "name": "python2"
  },
  "language_info": {
   "codemirror_mode": {
    "name": "ipython",
    "version": 2
   },
   "file_extension": ".py",
   "mimetype": "text/x-python",
   "name": "python",
   "nbconvert_exporter": "python",
   "pygments_lexer": "ipython2",
   "version": "2.7.15"
  }
 },
 "nbformat": 4,
 "nbformat_minor": 2
}
